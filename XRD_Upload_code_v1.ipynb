{
  "nbformat": 4,
  "nbformat_minor": 0,
  "metadata": {
    "colab": {
      "name": "Sample_Upload_code_v1.ipynb",
      "provenance": [],
      "collapsed_sections": [],
      "include_colab_link": true
    },
    "kernelspec": {
      "display_name": "Python 3",
      "name": "python3"
    }
  },
  "cells": [
    {
      "cell_type": "markdown",
      "metadata": {
        "id": "view-in-github",
        "colab_type": "text"
      },
      "source": [
        "<a href=\"https://colab.research.google.com/github/nbrrawal/Axrd_Analysis/blob/main/XRD_Upload_code_v1.ipynb\" target=\"_parent\"><img src=\"https://colab.research.google.com/assets/colab-badge.svg\" alt=\"Open In Colab\"/></a>"
      ]
    },
    {
      "cell_type": "code",
      "metadata": {
        "colab": {
          "base_uri": "https://localhost:8080/"
        },
        "id": "T6twy-LlNOy7",
        "outputId": "1c0bc6e9-136d-48f2-a9c5-6c322a70b7e4"
      },
      "source": [
        "from google.colab import drive\n",
        "drive.mount('/content/drive')"
      ],
      "execution_count": 2,
      "outputs": [
        {
          "output_type": "stream",
          "name": "stdout",
          "text": [
            "Mounted at /content/drive\n"
          ]
        }
      ]
    },
    {
      "cell_type": "code",
      "metadata": {
        "id": "-LmaTLSBhy4K"
      },
      "source": [
        "import pandas as pd "
      ],
      "execution_count": 3,
      "outputs": []
    },
    {
      "cell_type": "code",
      "metadata": {
        "id": "1WSj3umjh195"
      },
      "source": [
        "# sample data is present in any network or online location \n",
        "strfilename = '/content/drive/MyDrive/Data_sample/2015.csv'\n",
        "test=pd.read_csv(strfilename)"
      ],
      "execution_count": 29,
      "outputs": []
    },
    {
      "cell_type": "code",
      "metadata": {
        "colab": {
          "base_uri": "https://localhost:8080/"
        },
        "id": "GuLrqQjAh8K6",
        "outputId": "abdd5832-6346-4070-ed6d-7dfdc1daafd2"
      },
      "source": [
        "test.Country.head(2)"
      ],
      "execution_count": 30,
      "outputs": [
        {
          "output_type": "execute_result",
          "data": {
            "text/plain": [
              "0    Switzerland\n",
              "1        Iceland\n",
              "Name: Country, dtype: object"
            ]
          },
          "metadata": {},
          "execution_count": 30
        }
      ]
    },
    {
      "cell_type": "code",
      "metadata": {
        "colab": {
          "base_uri": "https://localhost:8080/",
          "height": 204
        },
        "id": "GYCf95kRri36",
        "outputId": "343e4966-fbfd-44d0-be08-8c1176f83b31"
      },
      "source": [
        "test.head()"
      ],
      "execution_count": 6,
      "outputs": [
        {
          "output_type": "execute_result",
          "data": {
            "text/html": [
              "<div>\n",
              "<style scoped>\n",
              "    .dataframe tbody tr th:only-of-type {\n",
              "        vertical-align: middle;\n",
              "    }\n",
              "\n",
              "    .dataframe tbody tr th {\n",
              "        vertical-align: top;\n",
              "    }\n",
              "\n",
              "    .dataframe thead th {\n",
              "        text-align: right;\n",
              "    }\n",
              "</style>\n",
              "<table border=\"1\" class=\"dataframe\">\n",
              "  <thead>\n",
              "    <tr style=\"text-align: right;\">\n",
              "      <th></th>\n",
              "      <th>Country</th>\n",
              "      <th>Region</th>\n",
              "      <th>Happiness Rank</th>\n",
              "      <th>Happiness Score</th>\n",
              "      <th>Standard Error</th>\n",
              "      <th>Economy (GDP per Capita)</th>\n",
              "      <th>Family</th>\n",
              "      <th>Health (Life Expectancy)</th>\n",
              "      <th>Freedom</th>\n",
              "      <th>Trust (Government Corruption)</th>\n",
              "      <th>Generosity</th>\n",
              "      <th>Dystopia Residual</th>\n",
              "    </tr>\n",
              "  </thead>\n",
              "  <tbody>\n",
              "    <tr>\n",
              "      <th>0</th>\n",
              "      <td>Switzerland</td>\n",
              "      <td>Western Europe</td>\n",
              "      <td>1</td>\n",
              "      <td>7.587</td>\n",
              "      <td>0.03411</td>\n",
              "      <td>1.39651</td>\n",
              "      <td>1.34951</td>\n",
              "      <td>0.94143</td>\n",
              "      <td>0.66557</td>\n",
              "      <td>0.41978</td>\n",
              "      <td>0.29678</td>\n",
              "      <td>2.51738</td>\n",
              "    </tr>\n",
              "    <tr>\n",
              "      <th>1</th>\n",
              "      <td>Iceland</td>\n",
              "      <td>Western Europe</td>\n",
              "      <td>2</td>\n",
              "      <td>7.561</td>\n",
              "      <td>0.04884</td>\n",
              "      <td>1.30232</td>\n",
              "      <td>1.40223</td>\n",
              "      <td>0.94784</td>\n",
              "      <td>0.62877</td>\n",
              "      <td>0.14145</td>\n",
              "      <td>0.43630</td>\n",
              "      <td>2.70201</td>\n",
              "    </tr>\n",
              "    <tr>\n",
              "      <th>2</th>\n",
              "      <td>Denmark</td>\n",
              "      <td>Western Europe</td>\n",
              "      <td>3</td>\n",
              "      <td>7.527</td>\n",
              "      <td>0.03328</td>\n",
              "      <td>1.32548</td>\n",
              "      <td>1.36058</td>\n",
              "      <td>0.87464</td>\n",
              "      <td>0.64938</td>\n",
              "      <td>0.48357</td>\n",
              "      <td>0.34139</td>\n",
              "      <td>2.49204</td>\n",
              "    </tr>\n",
              "    <tr>\n",
              "      <th>3</th>\n",
              "      <td>Norway</td>\n",
              "      <td>Western Europe</td>\n",
              "      <td>4</td>\n",
              "      <td>7.522</td>\n",
              "      <td>0.03880</td>\n",
              "      <td>1.45900</td>\n",
              "      <td>1.33095</td>\n",
              "      <td>0.88521</td>\n",
              "      <td>0.66973</td>\n",
              "      <td>0.36503</td>\n",
              "      <td>0.34699</td>\n",
              "      <td>2.46531</td>\n",
              "    </tr>\n",
              "    <tr>\n",
              "      <th>4</th>\n",
              "      <td>Canada</td>\n",
              "      <td>North America</td>\n",
              "      <td>5</td>\n",
              "      <td>7.427</td>\n",
              "      <td>0.03553</td>\n",
              "      <td>1.32629</td>\n",
              "      <td>1.32261</td>\n",
              "      <td>0.90563</td>\n",
              "      <td>0.63297</td>\n",
              "      <td>0.32957</td>\n",
              "      <td>0.45811</td>\n",
              "      <td>2.45176</td>\n",
              "    </tr>\n",
              "  </tbody>\n",
              "</table>\n",
              "</div>"
            ],
            "text/plain": [
              "       Country          Region  ...  Generosity  Dystopia Residual\n",
              "0  Switzerland  Western Europe  ...     0.29678            2.51738\n",
              "1      Iceland  Western Europe  ...     0.43630            2.70201\n",
              "2      Denmark  Western Europe  ...     0.34139            2.49204\n",
              "3       Norway  Western Europe  ...     0.34699            2.46531\n",
              "4       Canada   North America  ...     0.45811            2.45176\n",
              "\n",
              "[5 rows x 12 columns]"
            ]
          },
          "metadata": {},
          "execution_count": 6
        }
      ]
    },
    {
      "cell_type": "code",
      "metadata": {
        "id": "t6TnnELNoYoJ"
      },
      "source": [
        "#pip install xrdtools\n",
        "#polefig_Ge113.xrdml"
      ],
      "execution_count": 28,
      "outputs": []
    },
    {
      "cell_type": "code",
      "metadata": {
        "id": "mzOLX-rLoZzV"
      },
      "source": [
        "import xrdtools\n"
      ],
      "execution_count": 14,
      "outputs": []
    },
    {
      "cell_type": "code",
      "metadata": {
        "id": "N3cVV36BttMO"
      },
      "source": [
        "strXRDfilename = '/content/drive/MyDrive/Data_sample/polefig_Ge113.xrdml'\n",
        "\n",
        "data = xrdtools.read_xrdml(strXRDfilename)"
      ],
      "execution_count": 31,
      "outputs": []
    },
    {
      "cell_type": "code",
      "metadata": {
        "colab": {
          "base_uri": "https://localhost:8080/"
        },
        "id": "7gwsxFQntt7t",
        "outputId": "77058ee7-3800-460d-b567-689910f9253a"
      },
      "source": [
        "data"
      ],
      "execution_count": 32,
      "outputs": [
        {
          "output_type": "execute_result",
          "data": {
            "text/plain": [
              "{'2Theta': array([[53.686],\n",
              "        [53.686],\n",
              "        [53.686],\n",
              "        [53.686],\n",
              "        [53.686],\n",
              "        [53.686],\n",
              "        [53.686],\n",
              "        [53.686],\n",
              "        [53.686],\n",
              "        [53.686],\n",
              "        [53.686],\n",
              "        [53.686],\n",
              "        [53.686],\n",
              "        [53.686],\n",
              "        [53.686],\n",
              "        [53.686],\n",
              "        [53.686],\n",
              "        [53.686],\n",
              "        [53.686],\n",
              "        [53.686],\n",
              "        [53.686],\n",
              "        [53.686],\n",
              "        [53.686],\n",
              "        [53.686],\n",
              "        [53.686],\n",
              "        [53.686],\n",
              "        [53.686],\n",
              "        [53.686],\n",
              "        [53.686],\n",
              "        [53.686],\n",
              "        [53.686],\n",
              "        [53.686],\n",
              "        [53.686],\n",
              "        [53.686],\n",
              "        [53.686],\n",
              "        [53.686],\n",
              "        [53.686],\n",
              "        [53.686],\n",
              "        [53.686],\n",
              "        [53.686],\n",
              "        [53.686],\n",
              "        [53.686],\n",
              "        [53.686],\n",
              "        [53.686],\n",
              "        [53.686],\n",
              "        [53.686],\n",
              "        [53.686],\n",
              "        [53.686],\n",
              "        [53.686],\n",
              "        [53.686],\n",
              "        [53.686],\n",
              "        [53.686],\n",
              "        [53.686],\n",
              "        [53.686],\n",
              "        [53.686],\n",
              "        [53.686],\n",
              "        [53.686],\n",
              "        [53.686],\n",
              "        [53.686],\n",
              "        [53.686],\n",
              "        [53.686],\n",
              "        [53.686],\n",
              "        [53.686],\n",
              "        [53.686],\n",
              "        [53.686],\n",
              "        [53.686],\n",
              "        [53.686],\n",
              "        [53.686],\n",
              "        [53.686],\n",
              "        [53.686],\n",
              "        [53.686],\n",
              "        [53.686],\n",
              "        [53.686],\n",
              "        [53.686],\n",
              "        [53.686],\n",
              "        [53.686],\n",
              "        [53.686],\n",
              "        [53.686],\n",
              "        [53.686],\n",
              "        [53.686],\n",
              "        [53.686],\n",
              "        [53.686],\n",
              "        [53.686],\n",
              "        [53.686],\n",
              "        [53.686],\n",
              "        [53.686],\n",
              "        [53.686],\n",
              "        [53.686],\n",
              "        [53.686],\n",
              "        [53.686],\n",
              "        [53.686]]), 'Lambda': 1.540598, 'Omega': array([[26.843],\n",
              "        [26.843],\n",
              "        [26.843],\n",
              "        [26.843],\n",
              "        [26.843],\n",
              "        [26.843],\n",
              "        [26.843],\n",
              "        [26.843],\n",
              "        [26.843],\n",
              "        [26.843],\n",
              "        [26.843],\n",
              "        [26.843],\n",
              "        [26.843],\n",
              "        [26.843],\n",
              "        [26.843],\n",
              "        [26.843],\n",
              "        [26.843],\n",
              "        [26.843],\n",
              "        [26.843],\n",
              "        [26.843],\n",
              "        [26.843],\n",
              "        [26.843],\n",
              "        [26.843],\n",
              "        [26.843],\n",
              "        [26.843],\n",
              "        [26.843],\n",
              "        [26.843],\n",
              "        [26.843],\n",
              "        [26.843],\n",
              "        [26.843],\n",
              "        [26.843],\n",
              "        [26.843],\n",
              "        [26.843],\n",
              "        [26.843],\n",
              "        [26.843],\n",
              "        [26.843],\n",
              "        [26.843],\n",
              "        [26.843],\n",
              "        [26.843],\n",
              "        [26.843],\n",
              "        [26.843],\n",
              "        [26.843],\n",
              "        [26.843],\n",
              "        [26.843],\n",
              "        [26.843],\n",
              "        [26.843],\n",
              "        [26.843],\n",
              "        [26.843],\n",
              "        [26.843],\n",
              "        [26.843],\n",
              "        [26.843],\n",
              "        [26.843],\n",
              "        [26.843],\n",
              "        [26.843],\n",
              "        [26.843],\n",
              "        [26.843],\n",
              "        [26.843],\n",
              "        [26.843],\n",
              "        [26.843],\n",
              "        [26.843],\n",
              "        [26.843],\n",
              "        [26.843],\n",
              "        [26.843],\n",
              "        [26.843],\n",
              "        [26.843],\n",
              "        [26.843],\n",
              "        [26.843],\n",
              "        [26.843],\n",
              "        [26.843],\n",
              "        [26.843],\n",
              "        [26.843],\n",
              "        [26.843],\n",
              "        [26.843],\n",
              "        [26.843],\n",
              "        [26.843],\n",
              "        [26.843],\n",
              "        [26.843],\n",
              "        [26.843],\n",
              "        [26.843],\n",
              "        [26.843],\n",
              "        [26.843],\n",
              "        [26.843],\n",
              "        [26.843],\n",
              "        [26.843],\n",
              "        [26.843],\n",
              "        [26.843],\n",
              "        [26.843],\n",
              "        [26.843],\n",
              "        [26.843],\n",
              "        [26.843],\n",
              "        [26.843]]), 'Phi': array([-179.        , -178.70116861, -178.40233723, ...,  178.40233723,\n",
              "         178.70116861,  179.        ]), 'Psi': array([[ 0.],\n",
              "        [ 1.],\n",
              "        [ 2.],\n",
              "        [ 3.],\n",
              "        [ 4.],\n",
              "        [ 5.],\n",
              "        [ 6.],\n",
              "        [ 7.],\n",
              "        [ 8.],\n",
              "        [ 9.],\n",
              "        [10.],\n",
              "        [11.],\n",
              "        [12.],\n",
              "        [13.],\n",
              "        [14.],\n",
              "        [15.],\n",
              "        [16.],\n",
              "        [17.],\n",
              "        [18.],\n",
              "        [19.],\n",
              "        [20.],\n",
              "        [21.],\n",
              "        [22.],\n",
              "        [23.],\n",
              "        [24.],\n",
              "        [25.],\n",
              "        [26.],\n",
              "        [27.],\n",
              "        [28.],\n",
              "        [29.],\n",
              "        [30.],\n",
              "        [31.],\n",
              "        [32.],\n",
              "        [33.],\n",
              "        [34.],\n",
              "        [35.],\n",
              "        [36.],\n",
              "        [37.],\n",
              "        [38.],\n",
              "        [39.],\n",
              "        [40.],\n",
              "        [41.],\n",
              "        [42.],\n",
              "        [43.],\n",
              "        [44.],\n",
              "        [45.],\n",
              "        [46.],\n",
              "        [47.],\n",
              "        [48.],\n",
              "        [49.],\n",
              "        [50.],\n",
              "        [51.],\n",
              "        [52.],\n",
              "        [53.],\n",
              "        [54.],\n",
              "        [55.],\n",
              "        [56.],\n",
              "        [57.],\n",
              "        [58.],\n",
              "        [59.],\n",
              "        [60.],\n",
              "        [61.],\n",
              "        [62.],\n",
              "        [63.],\n",
              "        [64.],\n",
              "        [65.],\n",
              "        [66.],\n",
              "        [67.],\n",
              "        [68.],\n",
              "        [69.],\n",
              "        [70.],\n",
              "        [71.],\n",
              "        [72.],\n",
              "        [73.],\n",
              "        [74.],\n",
              "        [75.],\n",
              "        [76.],\n",
              "        [77.],\n",
              "        [78.],\n",
              "        [79.],\n",
              "        [80.],\n",
              "        [81.],\n",
              "        [82.],\n",
              "        [83.],\n",
              "        [84.],\n",
              "        [85.],\n",
              "        [86.],\n",
              "        [87.],\n",
              "        [88.],\n",
              "        [89.],\n",
              "        [90.]]), 'X': array([0.43]), 'Y': array([-0.17]), 'Z': array([16.438]), 'comment': {'1': 'Configuration=Secondary Mirror configuration, Owner=User-1, Creation date=6/4/2010 10:21:04 AM'}, 'data': array([[ 7.5,  3.5,  5.5, ...,  6.5,  5. ,  4.5],\n",
              "        [ 8.5,  6. ,  4. , ...,  7.5,  5. ,  7.5],\n",
              "        [10. , 10. ,  9. , ...,  8.5, 11.5, 11. ],\n",
              "        ...,\n",
              "        [ 9.5,  9. , 12. , ...,  4.5,  6.5,  8.5],\n",
              "        [10.5,  4. ,  7.5, ...,  6. ,  7. ,  7.5],\n",
              "        [ 8.5,  9. ,  5.5, ...,  5.5,  9. ,  6. ]]), 'filename': '/content/drive/MyDrive/Data_sample/polefig_Ge113.xrdml', 'hkl': {'h': None,\n",
              "  'k': None,\n",
              "  'l': None}, 'kAlpha1': 1.540598, 'kAlpha2': 1.544426, 'kAlphaRatio': 0.5, 'kBeta': 1.39225, 'kType': 'K-Alpha 1', 'measType': 'Area measurement', 'sample': '', 'scanAxis': 'Phi', 'scannb': [0,\n",
              "  1,\n",
              "  2,\n",
              "  3,\n",
              "  4,\n",
              "  5,\n",
              "  6,\n",
              "  7,\n",
              "  8,\n",
              "  9,\n",
              "  10,\n",
              "  11,\n",
              "  12,\n",
              "  13,\n",
              "  14,\n",
              "  15,\n",
              "  16,\n",
              "  17,\n",
              "  18,\n",
              "  19,\n",
              "  20,\n",
              "  21,\n",
              "  22,\n",
              "  23,\n",
              "  24,\n",
              "  25,\n",
              "  26,\n",
              "  27,\n",
              "  28,\n",
              "  29,\n",
              "  30,\n",
              "  31,\n",
              "  32,\n",
              "  33,\n",
              "  34,\n",
              "  35,\n",
              "  36,\n",
              "  37,\n",
              "  38,\n",
              "  39,\n",
              "  40,\n",
              "  41,\n",
              "  42,\n",
              "  43,\n",
              "  44,\n",
              "  45,\n",
              "  46,\n",
              "  47,\n",
              "  48,\n",
              "  49,\n",
              "  50,\n",
              "  51,\n",
              "  52,\n",
              "  53,\n",
              "  54,\n",
              "  55,\n",
              "  56,\n",
              "  57,\n",
              "  58,\n",
              "  59,\n",
              "  60,\n",
              "  61,\n",
              "  62,\n",
              "  63,\n",
              "  64,\n",
              "  65,\n",
              "  66,\n",
              "  67,\n",
              "  68,\n",
              "  69,\n",
              "  70,\n",
              "  71,\n",
              "  72,\n",
              "  73,\n",
              "  74,\n",
              "  75,\n",
              "  76,\n",
              "  77,\n",
              "  78,\n",
              "  79,\n",
              "  80,\n",
              "  81,\n",
              "  82,\n",
              "  83,\n",
              "  84,\n",
              "  85,\n",
              "  86,\n",
              "  87,\n",
              "  88,\n",
              "  89,\n",
              "  90], 'slitHeight': 0.76, 'status': 'Completed', 'stepAxis': 'Psi', 'substrate': '', 'time': array([2.]), 'xlable': 'Phi', 'xunit': 'deg', 'ylabel': 'Psi', 'yunit': 'deg'}"
            ]
          },
          "metadata": {},
          "execution_count": 32
        }
      ]
    },
    {
      "cell_type": "code",
      "metadata": {
        "id": "IPhTnfxDtz7b"
      },
      "source": [
        "# read all metrics in to arrays \n",
        "p = data['2Theta']\n",
        "q = data['Phi']\n",
        "r = data['Lambda']\n",
        "s = data['Omega']\n",
        "t = data['Psi']\n",
        "u = data['data']"
      ],
      "execution_count": 23,
      "outputs": []
    },
    {
      "cell_type": "code",
      "metadata": {
        "colab": {
          "base_uri": "https://localhost:8080/"
        },
        "id": "-cSpIlr6Awzv",
        "outputId": "405eaa2f-9198-40d2-9a56-d6f6e56c9f8f"
      },
      "source": [
        ""
      ],
      "execution_count": 24,
      "outputs": [
        {
          "output_type": "execute_result",
          "data": {
            "text/plain": [
              "array([[ 7.5,  3.5,  5.5, ...,  6.5,  5. ,  4.5],\n",
              "       [ 8.5,  6. ,  4. , ...,  7.5,  5. ,  7.5],\n",
              "       [10. , 10. ,  9. , ...,  8.5, 11.5, 11. ],\n",
              "       ...,\n",
              "       [ 9.5,  9. , 12. , ...,  4.5,  6.5,  8.5],\n",
              "       [10.5,  4. ,  7.5, ...,  6. ,  7. ,  7.5],\n",
              "       [ 8.5,  9. ,  5.5, ...,  5.5,  9. ,  6. ]])"
            ]
          },
          "metadata": {},
          "execution_count": 24
        }
      ]
    },
    {
      "cell_type": "code",
      "metadata": {
        "colab": {
          "base_uri": "https://localhost:8080/",
          "height": 265
        },
        "id": "lO9UK32pt6jd",
        "outputId": "e3a033f3-0c64-4a67-b399-0c5a2a54b750"
      },
      "source": [
        "from matplotlib import pyplot as plt\n",
        "\n",
        "plt.plot(u,p )\n",
        "plt.show()"
      ],
      "execution_count": 26,
      "outputs": [
        {
          "output_type": "display_data",
          "data": {
            "image/png": "[encoded data removed]",
            "text/plain": [
              "<Figure size 432x288 with 1 Axes>"
            ]
          },
          "metadata": {
            "needs_background": "light"
          }
        }
      ]
    },
    {
      "cell_type": "code",
      "metadata": {
        "id": "o-eOccYDAtee"
      },
      "source": [
        ""
      ],
      "execution_count": null,
      "outputs": []
    }
  ]
}