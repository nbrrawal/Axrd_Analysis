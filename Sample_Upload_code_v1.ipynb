{
  "nbformat": 4,
  "nbformat_minor": 0,
  "metadata": {
    "colab": {
      "name": "Sample_Upload_code_v1.ipynb",
      "provenance": [],
      "collapsed_sections": [],
      "include_colab_link": true
    },
    "kernelspec": {
      "display_name": "Python 3",
      "name": "python3"
    }
  },
  "cells": [
    {
      "cell_type": "markdown",
      "metadata": {
        "id": "view-in-github",
        "colab_type": "text"
      },
      "source": [
        "<a href=\"https://colab.research.google.com/github/nbrrawal/Axrd_Analysis/blob/main/Sample_Upload_code_v1.ipynb\" target=\"_parent\"><img src=\"https://colab.research.google.com/assets/colab-badge.svg\" alt=\"Open In Colab\"/></a>"
      ]
    },
    {
      "cell_type": "code",
      "metadata": {
        "colab": {
          "base_uri": "https://localhost:8080/"
        },
        "id": "T6twy-LlNOy7",
        "outputId": "92fed438-83bb-4fa9-f01b-19f4d3170f55"
      },
      "source": [
        "from google.colab import drive\n",
        "drive.mount('/content/drive')"
      ],
      "execution_count": 1,
      "outputs": [
        {
          "output_type": "stream",
          "name": "stdout",
          "text": [
            "Mounted at /content/drive\n"
          ]
        }
      ]
    },
    {
      "cell_type": "code",
      "metadata": {
        "id": "-LmaTLSBhy4K"
      },
      "source": [
        "import pandas as pd "
      ],
      "execution_count": 3,
      "outputs": []
    },
    {
      "cell_type": "code",
      "metadata": {
        "id": "1WSj3umjh195"
      },
      "source": [
        "# sample data is present in any network or online location \n",
        "strfilename = '/content/drive/MyDrive/Data_sample/2015.csv'\n",
        "test=pd.read_csv(strfilename)"
      ],
      "execution_count": 4,
      "outputs": []
    },
    {
      "cell_type": "code",
      "metadata": {
        "colab": {
          "base_uri": "https://localhost:8080/"
        },
        "id": "GuLrqQjAh8K6",
        "outputId": "7bcb7591-d0ba-4a6f-8b4f-89965ac1ca67"
      },
      "source": [
        "test.Country.head(2)"
      ],
      "execution_count": 5,
      "outputs": [
        {
          "output_type": "execute_result",
          "data": {
            "text/plain": [
              "0    Switzerland\n",
              "1        Iceland\n",
              "Name: Country, dtype: object"
            ]
          },
          "metadata": {},
          "execution_count": 5
        }
      ]
    },
    {
      "cell_type": "code",
      "metadata": {
        "colab": {
          "base_uri": "https://localhost:8080/",
          "height": 204
        },
        "id": "GYCf95kRri36",
        "outputId": "5eb1efae-447d-42ee-a623-84f7b636fcb9"
      },
      "source": [
        "test.head()"
      ],
      "execution_count": 6,
      "outputs": [
        {
          "output_type": "execute_result",
          "data": {
            "text/html": [
              "<div>\n",
              "<style scoped>\n",
              "    .dataframe tbody tr th:only-of-type {\n",
              "        vertical-align: middle;\n",
              "    }\n",
              "\n",
              "    .dataframe tbody tr th {\n",
              "        vertical-align: top;\n",
              "    }\n",
              "\n",
              "    .dataframe thead th {\n",
              "        text-align: right;\n",
              "    }\n",
              "</style>\n",
              "<table border=\"1\" class=\"dataframe\">\n",
              "  <thead>\n",
              "    <tr style=\"text-align: right;\">\n",
              "      <th></th>\n",
              "      <th>Country</th>\n",
              "      <th>Region</th>\n",
              "      <th>Happiness Rank</th>\n",
              "      <th>Happiness Score</th>\n",
              "      <th>Standard Error</th>\n",
              "      <th>Economy (GDP per Capita)</th>\n",
              "      <th>Family</th>\n",
              "      <th>Health (Life Expectancy)</th>\n",
              "      <th>Freedom</th>\n",
              "      <th>Trust (Government Corruption)</th>\n",
              "      <th>Generosity</th>\n",
              "      <th>Dystopia Residual</th>\n",
              "    </tr>\n",
              "  </thead>\n",
              "  <tbody>\n",
              "    <tr>\n",
              "      <th>0</th>\n",
              "      <td>Switzerland</td>\n",
              "      <td>Western Europe</td>\n",
              "      <td>1</td>\n",
              "      <td>7.587</td>\n",
              "      <td>0.03411</td>\n",
              "      <td>1.39651</td>\n",
              "      <td>1.34951</td>\n",
              "      <td>0.94143</td>\n",
              "      <td>0.66557</td>\n",
              "      <td>0.41978</td>\n",
              "      <td>0.29678</td>\n",
              "      <td>2.51738</td>\n",
              "    </tr>\n",
              "    <tr>\n",
              "      <th>1</th>\n",
              "      <td>Iceland</td>\n",
              "      <td>Western Europe</td>\n",
              "      <td>2</td>\n",
              "      <td>7.561</td>\n",
              "      <td>0.04884</td>\n",
              "      <td>1.30232</td>\n",
              "      <td>1.40223</td>\n",
              "      <td>0.94784</td>\n",
              "      <td>0.62877</td>\n",
              "      <td>0.14145</td>\n",
              "      <td>0.43630</td>\n",
              "      <td>2.70201</td>\n",
              "    </tr>\n",
              "    <tr>\n",
              "      <th>2</th>\n",
              "      <td>Denmark</td>\n",
              "      <td>Western Europe</td>\n",
              "      <td>3</td>\n",
              "      <td>7.527</td>\n",
              "      <td>0.03328</td>\n",
              "      <td>1.32548</td>\n",
              "      <td>1.36058</td>\n",
              "      <td>0.87464</td>\n",
              "      <td>0.64938</td>\n",
              "      <td>0.48357</td>\n",
              "      <td>0.34139</td>\n",
              "      <td>2.49204</td>\n",
              "    </tr>\n",
              "    <tr>\n",
              "      <th>3</th>\n",
              "      <td>Norway</td>\n",
              "      <td>Western Europe</td>\n",
              "      <td>4</td>\n",
              "      <td>7.522</td>\n",
              "      <td>0.03880</td>\n",
              "      <td>1.45900</td>\n",
              "      <td>1.33095</td>\n",
              "      <td>0.88521</td>\n",
              "      <td>0.66973</td>\n",
              "      <td>0.36503</td>\n",
              "      <td>0.34699</td>\n",
              "      <td>2.46531</td>\n",
              "    </tr>\n",
              "    <tr>\n",
              "      <th>4</th>\n",
              "      <td>Canada</td>\n",
              "      <td>North America</td>\n",
              "      <td>5</td>\n",
              "      <td>7.427</td>\n",
              "      <td>0.03553</td>\n",
              "      <td>1.32629</td>\n",
              "      <td>1.32261</td>\n",
              "      <td>0.90563</td>\n",
              "      <td>0.63297</td>\n",
              "      <td>0.32957</td>\n",
              "      <td>0.45811</td>\n",
              "      <td>2.45176</td>\n",
              "    </tr>\n",
              "  </tbody>\n",
              "</table>\n",
              "</div>"
            ],
            "text/plain": [
              "       Country          Region  ...  Generosity  Dystopia Residual\n",
              "0  Switzerland  Western Europe  ...     0.29678            2.51738\n",
              "1      Iceland  Western Europe  ...     0.43630            2.70201\n",
              "2      Denmark  Western Europe  ...     0.34139            2.49204\n",
              "3       Norway  Western Europe  ...     0.34699            2.46531\n",
              "4       Canada   North America  ...     0.45811            2.45176\n",
              "\n",
              "[5 rows x 12 columns]"
            ]
          },
          "metadata": {},
          "execution_count": 6
        }
      ]
    },
    {
      "cell_type": "code",
      "metadata": {
        "id": "t6TnnELNoYoJ",
        "colab": {
          "base_uri": "https://localhost:8080/"
        },
        "outputId": "99c40dd7-403e-4f3d-d37e-fb657ebd8d6a"
      },
      "source": [
        "!pip install xrdtools\n",
        "#polefig_Ge113.xrdml"
      ],
      "execution_count": 9,
      "outputs": [
        {
          "output_type": "stream",
          "name": "stdout",
          "text": [
            "Collecting xrdtools\n",
            "  Downloading xrdtools-0.1.1-py3-none-any.whl (71 kB)\n",
            "\u001b[?25l\r\u001b[K     |████▋                           | 10 kB 18.7 MB/s eta 0:00:01\r\u001b[K     |█████████▏                      | 20 kB 20.9 MB/s eta 0:00:01\r\u001b[K     |█████████████▉                  | 30 kB 24.5 MB/s eta 0:00:01\r\u001b[K     |██████████████████▍             | 40 kB 24.9 MB/s eta 0:00:01\r\u001b[K     |███████████████████████         | 51 kB 9.2 MB/s eta 0:00:01\r\u001b[K     |███████████████████████████▋    | 61 kB 10.6 MB/s eta 0:00:01\r\u001b[K     |████████████████████████████████| 71 kB 4.8 MB/s \n",
            "\u001b[?25hRequirement already satisfied: lxml>=3.0 in /usr/local/lib/python3.7/dist-packages (from xrdtools) (4.2.6)\n",
            "Requirement already satisfied: numpy>=1.7 in /usr/local/lib/python3.7/dist-packages (from xrdtools) (1.19.5)\n",
            "Installing collected packages: xrdtools\n",
            "Successfully installed xrdtools-0.1.1\n"
          ]
        }
      ]
    },
    {
      "cell_type": "code",
      "metadata": {
        "id": "mzOLX-rLoZzV"
      },
      "source": [
        "import xrdtools"
      ],
      "execution_count": 10,
      "outputs": []
    },
    {
      "cell_type": "code",
      "metadata": {
        "id": "N3cVV36BttMO"
      },
      "source": [
        "strXRDfilename = '/content/drive/MyDrive/Data_sample/SiliconStandard.xrdml'\n",
        "\n",
        "data = xrdtools.read_xrdml(strXRDfilename)"
      ],
      "execution_count": 12,
      "outputs": []
    },
    {
      "cell_type": "code",
      "metadata": {
        "id": "7gwsxFQntt7t",
        "colab": {
          "base_uri": "https://localhost:8080/"
        },
        "outputId": "fac5327c-ef44-4c64-9857-b5a0f8433746"
      },
      "source": [
        "data"
      ],
      "execution_count": 13,
      "outputs": [
        {
          "output_type": "execute_result",
          "data": {
            "text/plain": [
              "{'2Theta': array([ 10.        ,  10.01301182,  10.02602364, ..., 118.97397636,\n",
              "        118.98698818, 119.        ]),\n",
              " 'Lambda': 1.540598,\n",
              " 'Omega': array([ 5.        ,  5.00644622,  5.01289244, ..., 58.98710756,\n",
              "        58.99355378, 59.        ]),\n",
              " 'Phi': array(169.8),\n",
              " 'comment': {'1': 'Configuration=Reflection-Transmission Spinner, Owner=User-1, Creation date=2/1/2012 11:05:04 AM'},\n",
              " 'data': array([3.28905756, 3.31138148, 3.166276  , ..., 0.36834468, 0.34974141,\n",
              "        0.36090337]),\n",
              " 'filename': '/content/drive/MyDrive/Data_sample/SiliconStandard.xrdml',\n",
              " 'kAlpha1': 1.540598,\n",
              " 'kAlpha2': 1.544426,\n",
              " 'kAlphaRatio': 0.5,\n",
              " 'kBeta': 1.39225,\n",
              " 'kType': 'K-Alpha 1',\n",
              " 'maskWidth': nan,\n",
              " 'measType': 'Scan',\n",
              " 'sample': '',\n",
              " 'scanAxis': 'Gonio',\n",
              " 'scannb': [0],\n",
              " 'slitHeight': 0.05,\n",
              " 'status': 'Completed',\n",
              " 'time': array([268.77, 268.77, 268.77, ..., 268.77, 268.77, 268.77]),\n",
              " 'x': array([ 10.        ,  10.01301182,  10.02602364, ..., 118.97397636,\n",
              "        118.98698818, 119.        ]),\n",
              " 'xlabel': '2Theta-Theta',\n",
              " 'xunit': 'deg'}"
            ]
          },
          "metadata": {},
          "execution_count": 13
        }
      ]
    },
    {
      "cell_type": "code",
      "metadata": {
        "id": "IPhTnfxDtz7b"
      },
      "source": [
        "# read all metrics in to arrays \n",
        "p = data['2Theta']\n",
        "q = data['Phi']\n",
        "r = data['Lambda']\n",
        "s = data['Omega']\n",
        "#t = data['Psi']\n",
        "u = data['data']"
      ],
      "execution_count": 15,
      "outputs": []
    },
    {
      "cell_type": "code",
      "metadata": {
        "colab": {
          "base_uri": "https://localhost:8080/"
        },
        "id": "-cSpIlr6Awzv",
        "outputId": "7f5fbe59-60a4-4724-c5ce-2331853b7d50"
      },
      "source": [
        "u"
      ],
      "execution_count": null,
      "outputs": [
        {
          "output_type": "execute_result",
          "data": {
            "text/plain": [
              "array([[ 7.5,  3.5,  5.5, ...,  6.5,  5. ,  4.5],\n",
              "       [ 8.5,  6. ,  4. , ...,  7.5,  5. ,  7.5],\n",
              "       [10. , 10. ,  9. , ...,  8.5, 11.5, 11. ],\n",
              "       ...,\n",
              "       [ 9.5,  9. , 12. , ...,  4.5,  6.5,  8.5],\n",
              "       [10.5,  4. ,  7.5, ...,  6. ,  7. ,  7.5],\n",
              "       [ 8.5,  9. ,  5.5, ...,  5.5,  9. ,  6. ]])"
            ]
          },
          "metadata": {},
          "execution_count": 33
        }
      ]
    },
    {
      "cell_type": "code",
      "metadata": {
        "colab": {
          "base_uri": "https://localhost:8080/",
          "height": 265
        },
        "id": "lO9UK32pt6jd",
        "outputId": "e3a033f3-0c64-4a67-b399-0c5a2a54b750"
      },
      "source": [
        "from matplotlib import pyplot as plt\n",
        "\n",
        "plt.plot(u,p )\n",
        "plt.show()"
      ],
      "execution_count": null,
      "outputs": [
        {
          "output_type": "display_data",
          "data": {
            "image/png": "[encoded data removed]",
            "text/plain": [
              "<Figure size 432x288 with 1 Axes>"
            ]
          },
          "metadata": {
            "needs_background": "light"
          }
        }
      ]
    },
    {
      "cell_type": "code",
      "metadata": {
        "id": "o-eOccYDAtee"
      },
      "source": [
        "x = data['x']\n",
        "y = data['data']"
      ],
      "execution_count": 16,
      "outputs": []
    },
    {
      "cell_type": "code",
      "metadata": {
        "colab": {
          "base_uri": "https://localhost:8080/",
          "height": 265
        },
        "id": "VaSYIT-J6Och",
        "outputId": "e7659d3a-0930-44a9-875e-f15ccc19d500"
      },
      "source": [
        "from matplotlib import pyplot as plt\n",
        "plt.plot(x, y)\n",
        "plt.show()"
      ],
      "execution_count": 17,
      "outputs": [
        {
          "output_type": "display_data",
          "data": {
            "image/png": "[encoded data removed]",
            "text/plain": [
              "<Figure size 432x288 with 1 Axes>"
            ]
          },
          "metadata": {
            "needs_background": "light"
          }
        }
      ]
    },
    {
      "cell_type": "code",
      "metadata": {
        "id": "xvCaKhpP6PCw"
      },
      "source": [
        ""
      ],
      "execution_count": null,
      "outputs": []
    }
  ]
}